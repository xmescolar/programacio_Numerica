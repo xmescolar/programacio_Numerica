{
 "cells": [
  {
   "cell_type": "code",
   "execution_count": 7,
   "metadata": {},
   "outputs": [],
   "source": [
    "#S03 T04: Pràctica amb programació numèrica\n",
    "#Descripció\n",
    "#Familiaritza't amb la Programació Numèrica a través de la llibreria NumPy."
   ]
  },
  {
   "cell_type": "code",
   "execution_count": 8,
   "metadata": {},
   "outputs": [],
   "source": [
    "#Nivell 1"
   ]
  },
  {
   "cell_type": "code",
   "execution_count": 28,
   "metadata": {},
   "outputs": [
    {
     "name": "stdout",
     "output_type": "stream",
     "text": [
      "class:  ndarray\n",
      "shape:  (5,)\n",
      "strides:  (4,)\n",
      "itemsize:  4\n",
      "aligned:  True\n",
      "contiguous:  True\n",
      "fortran:  True\n",
      "data pointer: 0x283cf1e1e20\n",
      "byteorder:  little\n",
      "byteswap:  False\n",
      "type: int32\n",
      "size: 5\n",
      "type: <class 'tuple'>\n"
     ]
    }
   ],
   "source": [
    "#Exercici 1\n",
    "#Crea una funció que donat un Array d’una dimensió, et faci un resum estadístic bàsic de les dades. \n",
    "#Si detecta que l’array té més d’una dimensió, ha de mostrar un missatge d’error.\n",
    "\n",
    "import numpy as np\n",
    "\n",
    "def resum(v_array):\n",
    "    if v_array.ndim > 1:\n",
    "        print(\"La dimensió de l'array és més gran a 1\")\n",
    "    else:\n",
    "        np.info(v_array)\n",
    "        print(\"size:\",np.size(v_array))\n",
    "        print(\"type:\",type(v_array.shape))        \n",
    "            \n",
    "m_array = np.array([1,2,3,4,5])\n",
    "resum(m_array)       \n",
    "3"
   ]
  },
  {
   "cell_type": "code",
   "execution_count": 169,
   "metadata": {},
   "outputs": [
    {
     "name": "stdout",
     "output_type": "stream",
     "text": [
      "Escriu tamany del quadrat: 10\n",
      "[[ 22.   7.  89.  46.  45.  90.  54.  83.  76.  18.]\n",
      " [ 87.  38.  67.  22.  52.  29.  33.  54.  54.  36.]\n",
      " [ 19.  52.  46.  39.  13.   1.  26.  34.  82. 100.]\n",
      " [ 29.   2.  13.  50.  50.  80.  76.  48.  14.  15.]\n",
      " [ 81.  50.  32.  71.  89.  74.  75.  73.  27.  86.]\n",
      " [ 85.   7.  64.  37.  65.  51.  45.  20.  40.  15.]\n",
      " [ 27.  71.   1.  30.  95.  58.  99.  48.  27.  63.]\n",
      " [ 23.  86.  98.  74.  45.  12.  73.  68.  33.  62.]\n",
      " [ 64.   4.  84.  75.  11.  72.  74.   8.  49.  32.]\n",
      " [ 70.  93.  19.  53.  77.  70.  97.  60.  61.  61.]]\n"
     ]
    }
   ],
   "source": [
    "#Exercici 2\n",
    "#Crea una funció que et generi un quadrat NxN de nombres aleatoris entre el 0 i el 100.\n",
    "\n",
    "import numpy as np\n",
    "\n",
    "def quadrat_NxN(t):\n",
    "    \n",
    "    if t > 0:\n",
    "        quadrat = np.zeros(shape=(t,t)) # Cada element del quadrat s'inicialitza a 0.\n",
    "        for i in range(t):\n",
    "            for j in range(t):\n",
    "                quadrat[i][j] = randint(0,100) # A cada element del quadrat l`hi assignem un número aleatori.\n",
    "    else:\n",
    "        print(\"El tamany del quadrat no és correcte.\")\n",
    "        return\n",
    "    print(quadrat)\n",
    "    \n",
    "tam = int(input(\"Escriu tamany del quadrat: \"))\n",
    "quadrat_NxN(tam)        \n",
    "  "
   ]
  },
  {
   "cell_type": "code",
   "execution_count": 208,
   "metadata": {},
   "outputs": [
    {
     "name": "stdout",
     "output_type": "stream",
     "text": [
      "Totals fila: [ 9 18]\n",
      "Totals columna: [ 7  9 11]\n"
     ]
    }
   ],
   "source": [
    "#Exercici 3\n",
    "#Crea una funció que donada una taula de dues dimensions, et calculi els totals per fila i els totals per columna.\n",
    "\n",
    "import numpy as np\n",
    "\n",
    "def taula_2D(tau):\n",
    "    \n",
    "    tot_fila = 0\n",
    "    tot_col = 0\n",
    "    \n",
    "    if(tau.ndim != 2):\n",
    "        print(\"La taula no és bidimensional.\")\n",
    "    else:\n",
    "        tot_fila = np.sum(tau, axis=1) # sumatori d'elements per files.\n",
    "        tot_col = np.sum(tau, axis=0)  # sumatori d'elements per columnes.\n",
    "  \n",
    "    print(\"Totals fila:\",tot_fila)\n",
    "    print(\"Totals columna:\",tot_col)\n",
    "    \n",
    "taula = np.array([[2,3,4],\n",
    "                  [5,6,7]])\n",
    "\n",
    "taula_2D(taula)\n",
    "   "
   ]
  },
  {
   "cell_type": "code",
   "execution_count": 237,
   "metadata": {},
   "outputs": [
    {
     "name": "stdout",
     "output_type": "stream",
     "text": [
      "El coeficient de correlació de  [ 2  3  4  4  5  6  6  7  7  8 10 10] i [ 1  3  2  4  4  4  6  4  6  7  9 10] és 0.94\n"
     ]
    }
   ],
   "source": [
    "#Exercici 4\n",
    "#Implementa manualment una funció que calculi el coeficient de correlació. Informa’t-en sobre els seus usos i interpretació.\n",
    "\n",
    "#Un coeficient de correlació es un número que denota la força de la relació entre 2 variables.\n",
    "#Formula del coeficient de correlació:\n",
    "#la covarianza entre 2 variables dividida por el producte de les desviacions estándar de las 2 variables.\n",
    "#Correlació (r ) = NΣXY - (ΣX)(ΣY) / Sqrt([NΣX 2 - (ΣX) 2 ][NΣY 2 - (ΣY) 2 ])\n",
    "#Si el coeficient de correlació és positiu, la correlació es directa.\n",
    "#Si el coeficient de correlació és molt proper a 1 la correlació és molt forta.\n",
    "\n",
    "import numpy as np\n",
    "import pandas as pd\n",
    "#import matplotlib.pyplot as plt\n",
    "import math\n",
    "\n",
    "p = np.array([])\n",
    "\n",
    "def coef_corr(x,y): \n",
    "    # calculem el coeficient de correlació en diversos moviments.\n",
    "    media_x = int(sum(x)/len(x)) #Es calcula la mitjana de la primera variable.\n",
    "    media_y = int(sum(y)/len(y)) #Es calcula la mitjana de la segona variable.\n",
    "    \n",
    "    desv_x = sum(x * x)/len(x) #Es calcula la desviació standard de la primera variable.\n",
    "    desv_x -= (media_x * media_x)\n",
    "    desv_x = round(math.sqrt(desv_x),2)\n",
    "    \n",
    "    desv_y = sum(y * y)/len(y) #Es calcula la desviació standard de la segona variable.\n",
    "    desv_y -= (media_y * media_y)\n",
    "    desv_y = round(math.sqrt(desv_y),2)\n",
    "    \n",
    "    r = sum(x * y)/len(x * y) # Es calcula la covarianza.\n",
    "    r = round(r - (media_x * media_y),2)\n",
    "    r = round(r / (desv_x * desv_y),2)\n",
    "    print(\"El coeficient de correlació de \",x,\"i\",y,\"és\",r)\n",
    "    \n",
    "\n",
    "t_0 = np.array([2,3,4,4,5,6,6,7,7,8,10,10])\n",
    "t_1 = np.array([1,3,2,4,4,4,6,4,6,7,9,10])\n",
    "coef_corr(t_0,t_1)\n"
   ]
  },
  {
   "cell_type": "code",
   "execution_count": null,
   "metadata": {},
   "outputs": [],
   "source": []
  },
  {
   "cell_type": "code",
   "execution_count": null,
   "metadata": {},
   "outputs": [],
   "source": []
  },
  {
   "cell_type": "code",
   "execution_count": null,
   "metadata": {},
   "outputs": [],
   "source": []
  }
 ],
 "metadata": {
  "kernelspec": {
   "display_name": "Python 3",
   "language": "python",
   "name": "python3"
  }
 },
 "nbformat": 4,
 "nbformat_minor": 4
}
